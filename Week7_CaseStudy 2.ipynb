{
 "cells": [
  {
   "cell_type": "code",
   "execution_count": 1,
   "id": "82fea781",
   "metadata": {},
   "outputs": [],
   "source": [
    "import numpy as np\n",
    "import pandas as pd\n",
    "import matplotlib.pyplot as plt\n",
    "import seaborn as sns"
   ]
  },
  {
   "cell_type": "code",
   "execution_count": 3,
   "id": "3e78fc0c",
   "metadata": {},
   "outputs": [],
   "source": [
    "Sales_Data=pd.read_csv(r\"C:\\Users\\vivek\\Downloads\\Untitled Folder\\Week 7\\Sales_add.csv\")"
   ]
  },
  {
   "cell_type": "code",
   "execution_count": 7,
   "id": "01f04035",
   "metadata": {},
   "outputs": [
    {
     "data": {
      "text/plain": [
       "(22, 5)"
      ]
     },
     "execution_count": 7,
     "metadata": {},
     "output_type": "execute_result"
    }
   ],
   "source": [
    "Sales_Data.shape"
   ]
  },
  {
   "cell_type": "code",
   "execution_count": 4,
   "id": "1444ef65",
   "metadata": {},
   "outputs": [
    {
     "data": {
      "text/html": [
       "<div>\n",
       "<style scoped>\n",
       "    .dataframe tbody tr th:only-of-type {\n",
       "        vertical-align: middle;\n",
       "    }\n",
       "\n",
       "    .dataframe tbody tr th {\n",
       "        vertical-align: top;\n",
       "    }\n",
       "\n",
       "    .dataframe thead th {\n",
       "        text-align: right;\n",
       "    }\n",
       "</style>\n",
       "<table border=\"1\" class=\"dataframe\">\n",
       "  <thead>\n",
       "    <tr style=\"text-align: right;\">\n",
       "      <th></th>\n",
       "      <th>Month</th>\n",
       "      <th>Region</th>\n",
       "      <th>Manager</th>\n",
       "      <th>Sales_before_digital_add(in $)</th>\n",
       "      <th>Sales_After_digital_add(in $)</th>\n",
       "    </tr>\n",
       "  </thead>\n",
       "  <tbody>\n",
       "    <tr>\n",
       "      <th>0</th>\n",
       "      <td>Month-1</td>\n",
       "      <td>Region - A</td>\n",
       "      <td>Manager - A</td>\n",
       "      <td>132921</td>\n",
       "      <td>270390</td>\n",
       "    </tr>\n",
       "    <tr>\n",
       "      <th>1</th>\n",
       "      <td>Month-2</td>\n",
       "      <td>Region - A</td>\n",
       "      <td>Manager - C</td>\n",
       "      <td>149559</td>\n",
       "      <td>223334</td>\n",
       "    </tr>\n",
       "    <tr>\n",
       "      <th>2</th>\n",
       "      <td>Month-3</td>\n",
       "      <td>Region - B</td>\n",
       "      <td>Manager - A</td>\n",
       "      <td>146278</td>\n",
       "      <td>244243</td>\n",
       "    </tr>\n",
       "    <tr>\n",
       "      <th>3</th>\n",
       "      <td>Month-4</td>\n",
       "      <td>Region - B</td>\n",
       "      <td>Manager - B</td>\n",
       "      <td>152167</td>\n",
       "      <td>231808</td>\n",
       "    </tr>\n",
       "    <tr>\n",
       "      <th>4</th>\n",
       "      <td>Month-5</td>\n",
       "      <td>Region - C</td>\n",
       "      <td>Manager - B</td>\n",
       "      <td>159525</td>\n",
       "      <td>258402</td>\n",
       "    </tr>\n",
       "  </tbody>\n",
       "</table>\n",
       "</div>"
      ],
      "text/plain": [
       "     Month      Region      Manager  Sales_before_digital_add(in $)  \\\n",
       "0  Month-1  Region - A  Manager - A                          132921   \n",
       "1  Month-2  Region - A  Manager - C                          149559   \n",
       "2  Month-3  Region - B  Manager - A                          146278   \n",
       "3  Month-4  Region - B  Manager - B                          152167   \n",
       "4  Month-5  Region - C  Manager - B                          159525   \n",
       "\n",
       "   Sales_After_digital_add(in $)  \n",
       "0                         270390  \n",
       "1                         223334  \n",
       "2                         244243  \n",
       "3                         231808  \n",
       "4                         258402  "
      ]
     },
     "execution_count": 4,
     "metadata": {},
     "output_type": "execute_result"
    }
   ],
   "source": [
    "Sales_Data.head()"
   ]
  },
  {
   "cell_type": "code",
   "execution_count": 5,
   "id": "ea2efee4",
   "metadata": {},
   "outputs": [
    {
     "name": "stdout",
     "output_type": "stream",
     "text": [
      "<class 'pandas.core.frame.DataFrame'>\n",
      "RangeIndex: 22 entries, 0 to 21\n",
      "Data columns (total 5 columns):\n",
      " #   Column                          Non-Null Count  Dtype \n",
      "---  ------                          --------------  ----- \n",
      " 0   Month                           22 non-null     object\n",
      " 1   Region                          22 non-null     object\n",
      " 2   Manager                         22 non-null     object\n",
      " 3   Sales_before_digital_add(in $)  22 non-null     int64 \n",
      " 4   Sales_After_digital_add(in $)   22 non-null     int64 \n",
      "dtypes: int64(2), object(3)\n",
      "memory usage: 1008.0+ bytes\n"
     ]
    }
   ],
   "source": [
    "Sales_Data.info()"
   ]
  },
  {
   "cell_type": "markdown",
   "id": "c3ea7fa7",
   "metadata": {},
   "source": [
    "# The company wishes to clarify whether there is any increase in sales after\n",
    "stepping into digital marketing."
   ]
  },
  {
   "cell_type": "code",
   "execution_count": 30,
   "id": "d81a6bbc",
   "metadata": {},
   "outputs": [
    {
     "data": {
      "image/png": "[encoded data removed]",
      "text/plain": [
       "<Figure size 720x360 with 2 Axes>"
      ]
     },
     "metadata": {
      "needs_background": "light"
     },
     "output_type": "display_data"
    }
   ],
   "source": [
    "plt.figure(figsize=(10,5))\n",
    "plt.subplot(1,2,1)\n",
    "sns.boxplot(data=Sales_Data,y=\"Sales_before_digital_add(in $)\")\n",
    "plt.title(\"Sales_before_digital_add\")\n",
    "plt.subplot(1,2,2)\n",
    "sns.boxplot(data=Sales_Data,y=\"Sales_After_digital_add(in $)\")\n",
    "plt.title(\"Sales_After_digital_add\")\n",
    "plt.tight_layout()"
   ]
  },
  {
   "cell_type": "code",
   "execution_count": null,
   "id": "b39b9f94",
   "metadata": {},
   "outputs": [],
   "source": [
    "Data shows that there is a difference in total sales before and after digital marketing"
   ]
  },
  {
   "cell_type": "markdown",
   "id": "7a59f0f2",
   "metadata": {},
   "source": [
    "Setting Hypothesis\n",
    "H0 : There is no increase in sales after stepping into marketing\n",
    "Ha : There is an increase in sales after stepping into marketing"
   ]
  },
  {
   "cell_type": "code",
   "execution_count": 13,
   "id": "ffec0fe0",
   "metadata": {},
   "outputs": [],
   "source": [
    "# import ttest module\n",
    "from scipy.stats import ttest_rel\n",
    "\n",
    "#Assuming alpha=0.05\n",
    "alpha=0.05"
   ]
  },
  {
   "cell_type": "code",
   "execution_count": 19,
   "id": "331d4e98",
   "metadata": {},
   "outputs": [
    {
     "name": "stdout",
     "output_type": "stream",
     "text": [
      "Value of p 3.168333502287889e-11\n"
     ]
    }
   ],
   "source": [
    "sales_before=Sales_Data['Sales_before_digital_add(in $)']\n",
    "sales_after=Sales_Data['Sales_After_digital_add(in $)']\n",
    "\n",
    "_,p = ttest_rel( sales_after,sales_before, alternative = 'greater' )\n",
    "\n",
    "print(\"Value of p\" ,p)"
   ]
  },
  {
   "cell_type": "code",
   "execution_count": 20,
   "id": "73f37177",
   "metadata": {},
   "outputs": [
    {
     "name": "stdout",
     "output_type": "stream",
     "text": [
      "Reject the Null Hypothesis,H0\n"
     ]
    }
   ],
   "source": [
    "if p> alpha:\n",
    "    print ('fail to reject the Null Hypothesis,H0')\n",
    "else:\n",
    "    print('Reject the Null Hypothesis,H0')"
   ]
  },
  {
   "cell_type": "code",
   "execution_count": null,
   "id": "41c6a40f",
   "metadata": {},
   "outputs": [],
   "source": [
    "From the above t test we fail to reject the Null Hypothesis. \n",
    "Hence we accept the null Hypothesis we can conclude that there is an increase in sales after stepping into digital marketing."
   ]
  },
  {
   "cell_type": "markdown",
   "id": "e7ef7a4f",
   "metadata": {},
   "source": [
    "# The company needs to check whether there is any dependency between the\n",
    "features “Region” and “Manager”.\n"
   ]
  },
  {
   "cell_type": "markdown",
   "id": "176e808d",
   "metadata": {},
   "source": [
    "Setting Hypothesis\n",
    "H0 : There is no dependance between the features “Region” and “Manager”.\n",
    "Ha : There is dependance between the features “Region” and “Manager”."
   ]
  },
  {
   "cell_type": "code",
   "execution_count": 21,
   "id": "74949cdc",
   "metadata": {},
   "outputs": [
    {
     "data": {
      "text/html": [
       "<div>\n",
       "<style scoped>\n",
       "    .dataframe tbody tr th:only-of-type {\n",
       "        vertical-align: middle;\n",
       "    }\n",
       "\n",
       "    .dataframe tbody tr th {\n",
       "        vertical-align: top;\n",
       "    }\n",
       "\n",
       "    .dataframe thead th {\n",
       "        text-align: right;\n",
       "    }\n",
       "</style>\n",
       "<table border=\"1\" class=\"dataframe\">\n",
       "  <thead>\n",
       "    <tr style=\"text-align: right;\">\n",
       "      <th>Manager</th>\n",
       "      <th>Manager - A</th>\n",
       "      <th>Manager - B</th>\n",
       "      <th>Manager - C</th>\n",
       "    </tr>\n",
       "    <tr>\n",
       "      <th>Region</th>\n",
       "      <th></th>\n",
       "      <th></th>\n",
       "      <th></th>\n",
       "    </tr>\n",
       "  </thead>\n",
       "  <tbody>\n",
       "    <tr>\n",
       "      <th>Region - A</th>\n",
       "      <td>4</td>\n",
       "      <td>3</td>\n",
       "      <td>3</td>\n",
       "    </tr>\n",
       "    <tr>\n",
       "      <th>Region - B</th>\n",
       "      <td>4</td>\n",
       "      <td>1</td>\n",
       "      <td>2</td>\n",
       "    </tr>\n",
       "    <tr>\n",
       "      <th>Region - C</th>\n",
       "      <td>1</td>\n",
       "      <td>3</td>\n",
       "      <td>1</td>\n",
       "    </tr>\n",
       "  </tbody>\n",
       "</table>\n",
       "</div>"
      ],
      "text/plain": [
       "Manager     Manager - A  Manager - B  Manager - C\n",
       "Region                                           \n",
       "Region - A            4            3            3\n",
       "Region - B            4            1            2\n",
       "Region - C            1            3            1"
      ]
     },
     "execution_count": 21,
     "metadata": {},
     "output_type": "execute_result"
    }
   ],
   "source": [
    "CT = pd.crosstab(Sales_Data['Region'], Sales_Data['Manager'])\n",
    "CT"
   ]
  },
  {
   "cell_type": "code",
   "execution_count": 23,
   "id": "02335d72",
   "metadata": {},
   "outputs": [
    {
     "name": "stdout",
     "output_type": "stream",
     "text": [
      "Value of p 0.5493991051158094\n"
     ]
    }
   ],
   "source": [
    "alpha=.05\n",
    "from scipy.stats import chi2_contingency\n",
    "_, p, _, _ = chi2_contingency(CT)\n",
    "print(\"Value of p\" ,p)"
   ]
  },
  {
   "cell_type": "code",
   "execution_count": 24,
   "id": "a3bbb9c5",
   "metadata": {},
   "outputs": [
    {
     "name": "stdout",
     "output_type": "stream",
     "text": [
      "fail to reject the Null Hypothesis,H0\n"
     ]
    }
   ],
   "source": [
    "if p> alpha:\n",
    "    print ('fail to reject the Null Hypothesis,H0')\n",
    "else:\n",
    "    print('Reject the Null Hypothesis,H0')"
   ]
  },
  {
   "cell_type": "markdown",
   "id": "2ffd4374",
   "metadata": {},
   "source": [
    "Hence there is no dependance between the features “Region” and “Manager”."
   ]
  },
  {
   "cell_type": "code",
   "execution_count": null,
   "id": "baf93cf8",
   "metadata": {},
   "outputs": [],
   "source": []
  }
 ],
 "metadata": {
  "kernelspec": {
   "display_name": "Python 3 (ipykernel)",
   "language": "python",
   "name": "python3"
  },
  "language_info": {
   "codemirror_mode": {
    "name": "ipython",
    "version": 3
   },
   "file_extension": ".py",
   "mimetype": "text/x-python",
   "name": "python",
   "nbconvert_exporter": "python",
   "pygments_lexer": "ipython3",
   "version": "3.9.12"
  }
 },
 "nbformat": 4,
 "nbformat_minor": 5
}
