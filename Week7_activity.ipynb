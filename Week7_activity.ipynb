{
 "cells": [
  {
   "cell_type": "markdown",
   "id": "35c97d3a",
   "metadata": {},
   "source": [
    "# Q&A Activity – Week 07\n"
   ]
  },
  {
   "cell_type": "markdown",
   "id": "1c079d78",
   "metadata": {},
   "source": [
    "1. Carry out descriptive analytics on the dataset.\n",
    "2. Check whether female and male students scored the same marks.\n",
    "3. Whether test preparation helps the students?"
   ]
  },
  {
   "cell_type": "code",
   "execution_count": 1,
   "id": "5a189c75",
   "metadata": {},
   "outputs": [],
   "source": [
    "import numpy as np\n",
    "import pandas as pd\n",
    "import matplotlib.pyplot as plt\n",
    "import seaborn as sns"
   ]
  },
  {
   "cell_type": "code",
   "execution_count": 2,
   "id": "a767786b",
   "metadata": {},
   "outputs": [],
   "source": [
    "mark_df= pd.read_csv(r\"C:\\Users\\vivek\\Downloads\\Untitled Folder\\Week 7\\dataset w7.csv\")"
   ]
  },
  {
   "cell_type": "code",
   "execution_count": 3,
   "id": "74162822",
   "metadata": {},
   "outputs": [
    {
     "name": "stdout",
     "output_type": "stream",
     "text": [
      "<class 'pandas.core.frame.DataFrame'>\n",
      "RangeIndex: 28 entries, 0 to 27\n",
      "Data columns (total 3 columns):\n",
      " #   Column            Non-Null Count  Dtype \n",
      "---  ------            --------------  ----- \n",
      " 0   Gender            28 non-null     object\n",
      " 1   Test preparation  28 non-null     object\n",
      " 2   Total Marks       28 non-null     int64 \n",
      "dtypes: int64(1), object(2)\n",
      "memory usage: 800.0+ bytes\n"
     ]
    }
   ],
   "source": [
    "mark_df.info()"
   ]
  },
  {
   "cell_type": "code",
   "execution_count": 4,
   "id": "23180f37",
   "metadata": {},
   "outputs": [
    {
     "data": {
      "text/html": [
       "<div>\n",
       "<style scoped>\n",
       "    .dataframe tbody tr th:only-of-type {\n",
       "        vertical-align: middle;\n",
       "    }\n",
       "\n",
       "    .dataframe tbody tr th {\n",
       "        vertical-align: top;\n",
       "    }\n",
       "\n",
       "    .dataframe thead th {\n",
       "        text-align: right;\n",
       "    }\n",
       "</style>\n",
       "<table border=\"1\" class=\"dataframe\">\n",
       "  <thead>\n",
       "    <tr style=\"text-align: right;\">\n",
       "      <th></th>\n",
       "      <th>Gender</th>\n",
       "      <th>Test preparation</th>\n",
       "      <th>Total Marks</th>\n",
       "    </tr>\n",
       "  </thead>\n",
       "  <tbody>\n",
       "    <tr>\n",
       "      <th>0</th>\n",
       "      <td>male</td>\n",
       "      <td>none</td>\n",
       "      <td>14</td>\n",
       "    </tr>\n",
       "    <tr>\n",
       "      <th>1</th>\n",
       "      <td>female</td>\n",
       "      <td>none</td>\n",
       "      <td>28</td>\n",
       "    </tr>\n",
       "    <tr>\n",
       "      <th>2</th>\n",
       "      <td>female</td>\n",
       "      <td>none</td>\n",
       "      <td>18</td>\n",
       "    </tr>\n",
       "    <tr>\n",
       "      <th>3</th>\n",
       "      <td>female</td>\n",
       "      <td>none</td>\n",
       "      <td>48</td>\n",
       "    </tr>\n",
       "    <tr>\n",
       "      <th>4</th>\n",
       "      <td>female</td>\n",
       "      <td>none</td>\n",
       "      <td>21</td>\n",
       "    </tr>\n",
       "  </tbody>\n",
       "</table>\n",
       "</div>"
      ],
      "text/plain": [
       "   Gender Test preparation  Total Marks\n",
       "0    male             none           14\n",
       "1  female             none           28\n",
       "2  female             none           18\n",
       "3  female             none           48\n",
       "4  female             none           21"
      ]
     },
     "execution_count": 4,
     "metadata": {},
     "output_type": "execute_result"
    }
   ],
   "source": [
    "mark_df.head()"
   ]
  },
  {
   "cell_type": "code",
   "execution_count": 6,
   "id": "bf6d6aa5",
   "metadata": {},
   "outputs": [
    {
     "data": {
      "text/plain": [
       "(28, 3)"
      ]
     },
     "execution_count": 6,
     "metadata": {},
     "output_type": "execute_result"
    }
   ],
   "source": [
    "mark_df.shape"
   ]
  },
  {
   "cell_type": "code",
   "execution_count": 8,
   "id": "923f285f",
   "metadata": {},
   "outputs": [
    {
     "data": {
      "text/plain": [
       "female    16\n",
       "male      12\n",
       "Name: Gender, dtype: int64"
      ]
     },
     "execution_count": 8,
     "metadata": {},
     "output_type": "execute_result"
    }
   ],
   "source": [
    "mark_df['Gender'].value_counts()"
   ]
  },
  {
   "cell_type": "code",
   "execution_count": 10,
   "id": "efe6a07e",
   "metadata": {},
   "outputs": [
    {
     "data": {
      "text/plain": [
       "<AxesSubplot:>"
      ]
     },
     "execution_count": 10,
     "metadata": {},
     "output_type": "execute_result"
    },
    {
     "data": {
      "image/png": "[encoded data removed]",
      "text/plain": [
       "<Figure size 432x288 with 1 Axes>"
      ]
     },
     "metadata": {
      "needs_background": "light"
     },
     "output_type": "display_data"
    }
   ],
   "source": [
    "mark_df['Gender'].value_counts().plot(kind='barh')"
   ]
  },
  {
   "cell_type": "markdown",
   "id": "ce911737",
   "metadata": {},
   "source": [
    "Females are more in count than males "
   ]
  },
  {
   "cell_type": "code",
   "execution_count": 11,
   "id": "59b8a1c2",
   "metadata": {},
   "outputs": [
    {
     "data": {
      "text/plain": [
       "none         21\n",
       "completed     7\n",
       "Name: Test preparation, dtype: int64"
      ]
     },
     "execution_count": 11,
     "metadata": {},
     "output_type": "execute_result"
    }
   ],
   "source": [
    "mark_df['Test preparation'].value_counts()"
   ]
  },
  {
   "cell_type": "markdown",
   "id": "9320a64d",
   "metadata": {},
   "source": [
    "Students who completed the test preparation is less than the one who did not complete"
   ]
  },
  {
   "cell_type": "code",
   "execution_count": 12,
   "id": "d659f52e",
   "metadata": {},
   "outputs": [
    {
     "data": {
      "text/plain": [
       "<AxesSubplot:>"
      ]
     },
     "execution_count": 12,
     "metadata": {},
     "output_type": "execute_result"
    },
    {
     "data": {
      "image/png": "[encoded data removed]",
      "text/plain": [
       "<Figure size 432x288 with 1 Axes>"
      ]
     },
     "metadata": {
      "needs_background": "light"
     },
     "output_type": "display_data"
    }
   ],
   "source": [
    "mark_df['Test preparation'].value_counts().plot(kind='barh')"
   ]
  },
  {
   "cell_type": "code",
   "execution_count": 22,
   "id": "c1680e48",
   "metadata": {},
   "outputs": [
    {
     "data": {
      "image/png": "[encoded data removed]",
      "text/plain": [
       "<Figure size 864x432 with 2 Axes>"
      ]
     },
     "metadata": {
      "needs_background": "light"
     },
     "output_type": "display_data"
    }
   ],
   "source": [
    "plt.figure(figsize=(12,6))\n",
    "plt.subplot(1,2,1)\n",
    "sns.boxplot(data =mark_df, x= 'Gender', y ='Total Marks')\n",
    "plt.title(\"Gender wise Marks\")\n",
    "plt.ylabel(\"Total Marks\")\n",
    "plt.subplot(1,2,2)\n",
    "sns.boxplot(data =mark_df, x= 'Test preparation', y ='Total Marks')\n",
    "plt.title(\"Test prep wise Marks\")\n",
    "plt.ylabel(\"Total Marks\")\n",
    "plt.tight_layout()"
   ]
  },
  {
   "cell_type": "code",
   "execution_count": 24,
   "id": "021a8acd",
   "metadata": {},
   "outputs": [
    {
     "data": {
      "text/html": [
       "<div>\n",
       "<style scoped>\n",
       "    .dataframe tbody tr th:only-of-type {\n",
       "        vertical-align: middle;\n",
       "    }\n",
       "\n",
       "    .dataframe tbody tr th {\n",
       "        vertical-align: top;\n",
       "    }\n",
       "\n",
       "    .dataframe thead th {\n",
       "        text-align: right;\n",
       "    }\n",
       "</style>\n",
       "<table border=\"1\" class=\"dataframe\">\n",
       "  <thead>\n",
       "    <tr style=\"text-align: right;\">\n",
       "      <th></th>\n",
       "      <th>count</th>\n",
       "      <th>mean</th>\n",
       "      <th>std</th>\n",
       "      <th>min</th>\n",
       "      <th>25%</th>\n",
       "      <th>50%</th>\n",
       "      <th>75%</th>\n",
       "      <th>max</th>\n",
       "    </tr>\n",
       "    <tr>\n",
       "      <th>Gender</th>\n",
       "      <th></th>\n",
       "      <th></th>\n",
       "      <th></th>\n",
       "      <th></th>\n",
       "      <th></th>\n",
       "      <th></th>\n",
       "      <th></th>\n",
       "      <th></th>\n",
       "    </tr>\n",
       "  </thead>\n",
       "  <tbody>\n",
       "    <tr>\n",
       "      <th>female</th>\n",
       "      <td>16.0</td>\n",
       "      <td>33.750000</td>\n",
       "      <td>12.865976</td>\n",
       "      <td>12.0</td>\n",
       "      <td>25.50</td>\n",
       "      <td>39.0</td>\n",
       "      <td>43.50</td>\n",
       "      <td>50.0</td>\n",
       "    </tr>\n",
       "    <tr>\n",
       "      <th>male</th>\n",
       "      <td>12.0</td>\n",
       "      <td>30.416667</td>\n",
       "      <td>12.168950</td>\n",
       "      <td>14.0</td>\n",
       "      <td>21.75</td>\n",
       "      <td>29.0</td>\n",
       "      <td>43.25</td>\n",
       "      <td>47.0</td>\n",
       "    </tr>\n",
       "  </tbody>\n",
       "</table>\n",
       "</div>"
      ],
      "text/plain": [
       "        count       mean        std   min    25%   50%    75%   max\n",
       "Gender                                                             \n",
       "female   16.0  33.750000  12.865976  12.0  25.50  39.0  43.50  50.0\n",
       "male     12.0  30.416667  12.168950  14.0  21.75  29.0  43.25  47.0"
      ]
     },
     "execution_count": 24,
     "metadata": {},
     "output_type": "execute_result"
    }
   ],
   "source": [
    "mark_df.groupby('Gender')['Total Marks'].describe()"
   ]
  },
  {
   "cell_type": "code",
   "execution_count": 41,
   "id": "90797d08",
   "metadata": {},
   "outputs": [
    {
     "data": {
      "text/html": [
       "<div>\n",
       "<style scoped>\n",
       "    .dataframe tbody tr th:only-of-type {\n",
       "        vertical-align: middle;\n",
       "    }\n",
       "\n",
       "    .dataframe tbody tr th {\n",
       "        vertical-align: top;\n",
       "    }\n",
       "\n",
       "    .dataframe thead th {\n",
       "        text-align: right;\n",
       "    }\n",
       "</style>\n",
       "<table border=\"1\" class=\"dataframe\">\n",
       "  <thead>\n",
       "    <tr style=\"text-align: right;\">\n",
       "      <th></th>\n",
       "      <th>count</th>\n",
       "      <th>mean</th>\n",
       "      <th>std</th>\n",
       "      <th>min</th>\n",
       "      <th>25%</th>\n",
       "      <th>50%</th>\n",
       "      <th>75%</th>\n",
       "      <th>max</th>\n",
       "    </tr>\n",
       "    <tr>\n",
       "      <th>Test preparation</th>\n",
       "      <th></th>\n",
       "      <th></th>\n",
       "      <th></th>\n",
       "      <th></th>\n",
       "      <th></th>\n",
       "      <th></th>\n",
       "      <th></th>\n",
       "      <th></th>\n",
       "    </tr>\n",
       "  </thead>\n",
       "  <tbody>\n",
       "    <tr>\n",
       "      <th>completed</th>\n",
       "      <td>7.0</td>\n",
       "      <td>44.571429</td>\n",
       "      <td>3.359422</td>\n",
       "      <td>40.0</td>\n",
       "      <td>43.0</td>\n",
       "      <td>44.0</td>\n",
       "      <td>46.0</td>\n",
       "      <td>50.0</td>\n",
       "    </tr>\n",
       "    <tr>\n",
       "      <th>none</th>\n",
       "      <td>21.0</td>\n",
       "      <td>28.238095</td>\n",
       "      <td>11.661495</td>\n",
       "      <td>12.0</td>\n",
       "      <td>18.0</td>\n",
       "      <td>27.0</td>\n",
       "      <td>38.0</td>\n",
       "      <td>48.0</td>\n",
       "    </tr>\n",
       "  </tbody>\n",
       "</table>\n",
       "</div>"
      ],
      "text/plain": [
       "                  count       mean        std   min   25%   50%   75%   max\n",
       "Test preparation                                                           \n",
       "completed           7.0  44.571429   3.359422  40.0  43.0  44.0  46.0  50.0\n",
       "none               21.0  28.238095  11.661495  12.0  18.0  27.0  38.0  48.0"
      ]
     },
     "execution_count": 41,
     "metadata": {},
     "output_type": "execute_result"
    }
   ],
   "source": [
    "mark_df.groupby('Test preparation')['Total Marks'].describe()"
   ]
  },
  {
   "cell_type": "markdown",
   "id": "3582e1d2",
   "metadata": {},
   "source": [
    "From the given data, we can infer the no much variance in the marks across gender. \n",
    "However there is huge variance in the marks across Test preparation. That is test preparation has an imapct on the marks "
   ]
  },
  {
   "cell_type": "markdown",
   "id": "422a8d40",
   "metadata": {},
   "source": [
    "# 2. Check whether female and male students scored the same marks"
   ]
  },
  {
   "cell_type": "code",
   "execution_count": null,
   "id": "df514af9",
   "metadata": {},
   "outputs": [],
   "source": [
    "#Setting Hypothesis\n",
    "#H0 : Female and Male scored different marks\n",
    "#Ha : Female and Male scored the same marks"
   ]
  },
  {
   "cell_type": "code",
   "execution_count": 33,
   "id": "35848017",
   "metadata": {},
   "outputs": [],
   "source": [
    "# import ttest module\n",
    "from scipy.stats import ttest_ind\n",
    "\n",
    "#Assuming alpha=0.05\n",
    "alpha=0.05"
   ]
  },
  {
   "cell_type": "code",
   "execution_count": 26,
   "id": "5fb452de",
   "metadata": {},
   "outputs": [],
   "source": [
    "mark_female=mark_df[mark_df['Gender']=='female']['Total Marks']\n",
    "mark_male=mark_df[mark_df['Gender']=='male']['Total Marks']"
   ]
  },
  {
   "cell_type": "code",
   "execution_count": 30,
   "id": "7d0550aa",
   "metadata": {},
   "outputs": [],
   "source": [
    "_,p=ttest_ind(mark_male,mark_female)"
   ]
  },
  {
   "cell_type": "code",
   "execution_count": 31,
   "id": "5ef66374",
   "metadata": {},
   "outputs": [
    {
     "name": "stdout",
     "output_type": "stream",
     "text": [
      "value of p 0.4937822317960763\n"
     ]
    }
   ],
   "source": [
    "print(\"value of p\",p)"
   ]
  },
  {
   "cell_type": "code",
   "execution_count": 34,
   "id": "f3644fec",
   "metadata": {},
   "outputs": [
    {
     "name": "stdout",
     "output_type": "stream",
     "text": [
      "fail to reject the Null Hypothesis,H0\n"
     ]
    }
   ],
   "source": [
    "if p> alpha:\n",
    "    print ('fail to reject the Null Hypothesis,H0')\n",
    "else:\n",
    "    print('Reject the Null Hypothesis,H0')"
   ]
  },
  {
   "cell_type": "markdown",
   "id": "7b1d7eef",
   "metadata": {},
   "source": [
    "From the above t test we fail to reject the Null Hypothesis.\n",
    "Hence we accept the null Hypothesis ie Female and Male scored different marks"
   ]
  },
  {
   "cell_type": "markdown",
   "id": "b5f9c741",
   "metadata": {},
   "source": [
    "# 3. Whether test preparation helps the students?"
   ]
  },
  {
   "cell_type": "code",
   "execution_count": null,
   "id": "bf89d240",
   "metadata": {},
   "outputs": [],
   "source": [
    "#Setting Hypothesis\n",
    "#H0 : Test preparation didnot help students\n",
    "#Ha : Test preparation helps students"
   ]
  },
  {
   "cell_type": "code",
   "execution_count": 36,
   "id": "07dc200c",
   "metadata": {},
   "outputs": [],
   "source": [
    "none=mark_df[mark_df['Test preparation']=='none']['Total Marks']\n",
    "completed=mark_df[mark_df['Test preparation']=='completed']['Total Marks']\n",
    "\n",
    "\n",
    "#Assuming alpha=0.05\n",
    "alpha=0.05"
   ]
  },
  {
   "cell_type": "code",
   "execution_count": 38,
   "id": "b9632026",
   "metadata": {},
   "outputs": [
    {
     "name": "stdout",
     "output_type": "stream",
     "text": [
      "value of p 0.0012671292457320106\n"
     ]
    }
   ],
   "source": [
    "_,p=ttest_ind(none,completed)\n",
    "print(\"value of p\",p)"
   ]
  },
  {
   "cell_type": "code",
   "execution_count": 39,
   "id": "1a94016b",
   "metadata": {},
   "outputs": [
    {
     "name": "stdout",
     "output_type": "stream",
     "text": [
      "Reject the Null Hypothesis,H0\n"
     ]
    }
   ],
   "source": [
    "if p> alpha:\n",
    "    print ('fail to reject the Null Hypothesis,H0')\n",
    "else:\n",
    "    print('Reject the Null Hypothesis,H0')"
   ]
  },
  {
   "cell_type": "markdown",
   "id": "9bd14aa4",
   "metadata": {},
   "source": [
    "From the above t test we reject the Null Hypothesis.\n",
    "Hence we accept the alternate Hypothesis ie Test preparation helps students"
   ]
  }
 ],
 "metadata": {
  "kernelspec": {
   "display_name": "Python 3 (ipykernel)",
   "language": "python",
   "name": "python3"
  },
  "language_info": {
   "codemirror_mode": {
    "name": "ipython",
    "version": 3
   },
   "file_extension": ".py",
   "mimetype": "text/x-python",
   "name": "python",
   "nbconvert_exporter": "python",
   "pygments_lexer": "ipython3",
   "version": "3.9.12"
  }
 },
 "nbformat": 4,
 "nbformat_minor": 5
}
